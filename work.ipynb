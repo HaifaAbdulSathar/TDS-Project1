{
 "cells": [
  {
   "cell_type": "code",
   "execution_count": 1,
   "metadata": {},
   "outputs": [],
   "source": [
    "# !pip install bs4"
   ]
  },
  {
   "cell_type": "code",
   "execution_count": 2,
   "metadata": {},
   "outputs": [],
   "source": [
    "# !pip install beautifulsoup4"
   ]
  },
  {
   "cell_type": "code",
   "execution_count": 3,
   "metadata": {},
   "outputs": [],
   "source": [
    "# !pip install pandas"
   ]
  },
  {
   "cell_type": "code",
   "execution_count": 4,
   "metadata": {},
   "outputs": [],
   "source": [
    "# !pip install requests"
   ]
  },
  {
   "cell_type": "code",
   "execution_count": 5,
   "metadata": {},
   "outputs": [],
   "source": [
    "import pandas as pd\n",
    "import requests"
   ]
  },
  {
   "cell_type": "code",
   "execution_count": 6,
   "metadata": {},
   "outputs": [],
   "source": [
    "from bs4 import BeautifulSoup"
   ]
  },
  {
   "cell_type": "code",
   "execution_count": null,
   "metadata": {},
   "outputs": [],
   "source": [
    "# GitHub API endpoint for searching users\n",
    "url = \"https://api.github.com/search/users\"\n",
    "headers = {'Authorization': 'token '}\n",
    "\n",
    "# Parameters for the API request\n",
    "params = {\n",
    "    'q': 'followers:>500 location:london',  # Search query\n",
    "    'type': 'Users',\n",
    "    'per_page': 100,  # Maximum allowed per page is 100\n",
    "    'page': 1         # Start at the first page\n",
    "}\n",
    "\n",
    "all_users = []\n",
    "while True:\n",
    "    response = requests.get(url, headers=headers, params=params)\n",
    "    data = response.json()\n",
    "    users = data.get('items', [])\n",
    "    all_users.extend(users)  # Add users from the current page\n",
    "\n",
    "    # Check if there's another page\n",
    "    if len(users) < params['per_page']:  # Less than `per_page` means we're at the last page\n",
    "        break\n",
    "\n",
    "    params['page'] += 1  # Go to the next page"
   ]
  },
  {
   "cell_type": "code",
   "execution_count": 8,
   "metadata": {},
   "outputs": [
    {
     "data": {
      "text/plain": [
       "325"
      ]
     },
     "execution_count": 8,
     "metadata": {},
     "output_type": "execute_result"
    }
   ],
   "source": [
    "len(all_users)"
   ]
  },
  {
   "cell_type": "code",
   "execution_count": 9,
   "metadata": {},
   "outputs": [],
   "source": [
    "user0=requests.get(all_users[0][\"url\"]).json() "
   ]
  },
  {
   "cell_type": "code",
   "execution_count": 10,
   "metadata": {},
   "outputs": [
    {
     "data": {
      "text/plain": [
       "{'login': 'tj',\n",
       " 'id': 25254,\n",
       " 'node_id': 'MDQ6VXNlcjI1MjU0',\n",
       " 'avatar_url': 'https://avatars.githubusercontent.com/u/25254?v=4',\n",
       " 'gravatar_id': '',\n",
       " 'url': 'https://api.github.com/users/tj',\n",
       " 'html_url': 'https://github.com/tj',\n",
       " 'followers_url': 'https://api.github.com/users/tj/followers',\n",
       " 'following_url': 'https://api.github.com/users/tj/following{/other_user}',\n",
       " 'gists_url': 'https://api.github.com/users/tj/gists{/gist_id}',\n",
       " 'starred_url': 'https://api.github.com/users/tj/starred{/owner}{/repo}',\n",
       " 'subscriptions_url': 'https://api.github.com/users/tj/subscriptions',\n",
       " 'organizations_url': 'https://api.github.com/users/tj/orgs',\n",
       " 'repos_url': 'https://api.github.com/users/tj/repos',\n",
       " 'events_url': 'https://api.github.com/users/tj/events{/privacy}',\n",
       " 'received_events_url': 'https://api.github.com/users/tj/received_events',\n",
       " 'type': 'User',\n",
       " 'user_view_type': 'public',\n",
       " 'site_admin': False,\n",
       " 'name': 'TJ Holowaychuk',\n",
       " 'company': 'Apex',\n",
       " 'blog': 'https://apex.sh',\n",
       " 'location': 'London, UK',\n",
       " 'email': None,\n",
       " 'hireable': None,\n",
       " 'bio': None,\n",
       " 'twitter_username': 'tjholowaychuk',\n",
       " 'public_repos': 296,\n",
       " 'public_gists': 551,\n",
       " 'followers': 50864,\n",
       " 'following': 45,\n",
       " 'created_at': '2008-09-18T22:37:28Z',\n",
       " 'updated_at': '2024-01-17T09:23:36Z'}"
      ]
     },
     "execution_count": 10,
     "metadata": {},
     "output_type": "execute_result"
    }
   ],
   "source": [
    "user0"
   ]
  },
  {
   "cell_type": "code",
   "execution_count": null,
   "metadata": {},
   "outputs": [],
   "source": [
    "import time\n",
    "\n",
    "users_data = []\n",
    "i=0\n",
    "for user in all_users:\n",
    "    try:\n",
    "        # Fetch user details\n",
    "        response = requests.get(user[\"url\"], headers=headers)\n",
    "        response.raise_for_status()  # Raise an error if the request failed\n",
    "        user_data = response.json()\n",
    "\n",
    "        # Only proceed if 'login' key is present to confirm valid user data\n",
    "        if \"login\" in user_data:\n",
    "            user_info = {\n",
    "                \"login\": user_data.get(\"login\", \"\"),\n",
    "                \"name\": user_data.get(\"name\", \"\"),\n",
    "                \"company\": user_data.get(\"company\", \"\").strip().lstrip('@').upper() if user_data.get(\"company\") else \"\",\n",
    "                \"location\": user_data.get(\"location\", \"\"),\n",
    "                \"email\": user_data.get(\"email\", \"\"),\n",
    "                \"hireable\": user_data.get(\"hireable\", \"\"),\n",
    "                \"bio\": user_data.get(\"bio\", \"\"),\n",
    "                \"public_repos\": user_data.get(\"public_repos\", 0),\n",
    "                \"followers\": user_data.get(\"followers\", 0),\n",
    "                \"following\": user_data.get(\"following\", 0),\n",
    "                \"created_at\": user_data.get(\"created_at\", \"\"),\n",
    "            }\n",
    "            users_data.append(user_info)\n",
    "            print(i,end=\" \")\n",
    "            i+=1\n",
    "        else:\n",
    "            print(f\"Skipping user {user.get('login', 'unknown')} due to missing data.\")\n",
    "\n",
    "    except requests.exceptions.RequestException as e:\n",
    "        print(f\"Request failed for user {user['login']}: {e}\")\n",
    "        continue  # Skip to the next user on failure\n",
    "\n",
    "    time.sleep(1)  # Add a 1-second delay between requests\n",
    "\n",
    "print(f\"Total users processed: {len(users_data)}\")\n"
   ]
  },
  {
   "cell_type": "code",
   "execution_count": null,
   "metadata": {},
   "outputs": [
    {
     "data": {
      "text/plain": [
       "325"
      ]
     },
     "execution_count": 16,
     "metadata": {},
     "output_type": "execute_result"
    }
   ],
   "source": [
    "len(users_data)"
   ]
  },
  {
   "cell_type": "code",
   "execution_count": null,
   "metadata": {},
   "outputs": [],
   "source": [
    "df=pd.DataFrame(users_data)"
   ]
  },
  {
   "cell_type": "code",
   "execution_count": null,
   "metadata": {},
   "outputs": [],
   "source": [
    "df.to_csv('users.csv', index=False)"
   ]
  },
  {
   "cell_type": "code",
   "execution_count": null,
   "metadata": {},
   "outputs": [
    {
     "name": "stdout",
     "output_type": "stream",
     "text": [
      "Fetched 296 repositories for user tj\n",
      "Fetched 46 repositories for user kunal-kushwaha\n",
      "Fetched 41 repositories for user angelabauer\n",
      "Fetched 169 repositories for user jlord\n",
      "Fetched 49 repositories for user Elfocrash\n",
      "Fetched 15 repositories for user alyssaxuu\n",
      "Fetched 94 repositories for user eddiejaoude\n",
      "Fetched 101 repositories for user daneden\n",
      "Fetched 362 repositories for user LaravelDaily\n",
      "Fetched 73 repositories for user jskeet\n",
      "Fetched 500 repositories for user mattdesl\n",
      "Fetched 475 repositories for user cloudflare\n",
      "Fetched 97 repositories for user nicklockwood\n",
      "Fetched 94 repositories for user jgthms\n",
      "Fetched 125 repositories for user bizz84\n",
      "Fetched 262 repositories for user samuelcolvin\n",
      "Fetched 116 repositories for user Lissy93\n",
      "Fetched 34 repositories for user jgilfelt\n",
      "Fetched 35 repositories for user sonnysangha\n",
      "Fetched 11 repositories for user nickbutcher\n",
      "Fetched 18 repositories for user florina-muntenescu\n",
      "Fetched 183 repositories for user pydanny\n",
      "Fetched 450 repositories for user SaraVieira\n",
      "Fetched 448 repositories for user dsyer\n",
      "Fetched 65 repositories for user trueadm\n",
      "Fetched 110 repositories for user matryer\n",
      "Fetched 500 repositories for user adamchainz\n",
      "Fetched 54 repositories for user gordicaleksa\n",
      "Fetched 175 repositories for user lewagon\n",
      "Fetched 276 repositories for user threepointone\n",
      "Fetched 97 repositories for user lizrice\n",
      "Fetched 358 repositories for user Soldy\n",
      "Fetched 500 repositories for user londonappbrewery\n",
      "Fetched 37 repositories for user jasondavies\n",
      "Fetched 119 repositories for user sdiehl\n",
      "Fetched 30 repositories for user ArefMq\n",
      "Fetched 163 repositories for user steveruizok\n",
      "Fetched 154 repositories for user Archakov06\n",
      "Fetched 18 repositories for user mlabonne\n",
      "Fetched 102 repositories for user appbrewery\n",
      "Fetched 76 repositories for user jspahrsummers\n",
      "Fetched 35 repositories for user emilsjolander\n",
      "Fetched 7 repositories for user dli\n",
      "Fetched 15 repositories for user lucasr\n",
      "Fetched 44 repositories for user TryCatchLearn\n",
      "Fetched 35 repositories for user riggaroo\n",
      "Fetched 9 repositories for user paullewis\n",
      "Fetched 30 repositories for user soulwire\n",
      "Fetched 135 repositories for user spite\n",
      "Fetched 4 repositories for user MachineLearnia\n",
      "Fetched 321 repositories for user gajus\n",
      "Fetched 77 repositories for user mvdan\n",
      "Fetched 144 repositories for user 0atman\n",
      "Fetched 45 repositories for user kylef\n",
      "Fetched 451 repositories for user passy\n",
      "Fetched 189 repositories for user laurent22\n",
      "Fetched 500 repositories for user canonical\n",
      "Fetched 96 repositories for user slightfoot\n",
      "Fetched 9 repositories for user VagrantStory\n",
      "Fetched 362 repositories for user lpil\n",
      "Fetched 500 repositories for user praveenscience\n",
      "Fetched 14 repositories for user christiannwamba\n",
      "Fetched 179 repositories for user audreyfeldroy\n",
      "Fetched 245 repositories for user PaulKinlan\n",
      "Fetched 16 repositories for user atherosai\n",
      "Fetched 142 repositories for user cortinico\n",
      "Fetched 411 repositories for user fabiospampinato\n",
      "Fetched 48 repositories for user fluttercommunity\n",
      "Fetched 363 repositories for user robmarkcole\n",
      "Fetched 115 repositories for user TodePond\n",
      "Fetched 296 repositories for user nicholasjackson\n",
      "Fetched 165 repositories for user weavejester\n",
      "Fetched 81 repositories for user kitten\n",
      "Fetched 16 repositories for user MaggieAppleton\n",
      "Fetched 204 repositories for user HariSekhon\n",
      "Fetched 500 repositories for user paritytech\n",
      "Fetched 90 repositories for user ohld\n",
      "Fetched 115 repositories for user Patalin\n",
      "Fetched 156 repositories for user derickr\n",
      "Fetched 7 repositories for user ItzLevvie\n",
      "Fetched 25 repositories for user serengil\n",
      "Fetched 28 repositories for user BYK\n",
      "Fetched 330 repositories for user keithamus\n",
      "Fetched 175 repositories for user bee-san\n",
      "Fetched 280 repositories for user ForbesLindesay\n",
      "Fetched 68 repositories for user lovell\n",
      "Fetched 160 repositories for user sergiecode\n",
      "Fetched 219 repositories for user petebacondarwin\n",
      "Fetched 10 repositories for user jacobbinnie\n",
      "Fetched 7 repositories for user sebastianstarke\n",
      "Fetched 64 repositories for user ualehosaini\n",
      "Fetched 93 repositories for user kadikraman\n",
      "Fetched 483 repositories for user umaar\n",
      "Fetched 140 repositories for user jcoglan\n",
      "Fetched 89 repositories for user mikedewar\n",
      "Fetched 111 repositories for user albinotonnina\n",
      "Fetched 74 repositories for user peter-lawrey\n",
      "Fetched 118 repositories for user samdutton\n",
      "Fetched 12 repositories for user a7v8x\n",
      "Fetched 120 repositories for user nelstrom\n",
      "Fetched 44 repositories for user postspectacular\n",
      "Fetched 186 repositories for user dylanbeattie\n",
      "Fetched 323 repositories for user jackfranklin\n",
      "Fetched 133 repositories for user Lukasa\n",
      "Fetched 39 repositories for user bashtage\n",
      "Fetched 120 repositories for user benjojo\n",
      "Fetched 34 repositories for user bookercodes\n",
      "Fetched 78 repositories for user kelset\n",
      "Fetched 30 repositories for user OlafenwaMoses\n",
      "Fetched 42 repositories for user arkivanov\n",
      "Fetched 51 repositories for user abreslav\n",
      "Fetched 82 repositories for user MicheleBertoli\n",
      "Fetched 128 repositories for user jevakallio\n",
      "Fetched 103 repositories for user MattIPv4\n",
      "Fetched 16 repositories for user jakewright\n",
      "Fetched 75 repositories for user RichardWarburton\n",
      "Fetched 19 repositories for user benanne\n",
      "Fetched 263 repositories for user sixeyed\n",
      "Fetched 224 repositories for user snyk\n",
      "Fetched 39 repositories for user FranxYao\n",
      "Fetched 104 repositories for user FlexMonkey\n",
      "Fetched 39 repositories for user Effect-TS\n",
      "Fetched 36 repositories for user TerryCavanagh\n",
      "Fetched 44 repositories for user perone\n",
      "Fetched 39 repositories for user rachelnabors\n",
      "Fetched 212 repositories for user hackerkid\n",
      "Fetched 62 repositories for user padolsey\n",
      "Fetched 197 repositories for user jkup\n",
      "Fetched 98 repositories for user quii\n",
      "Fetched 64 repositories for user wakaleo\n",
      "Fetched 431 repositories for user alanshaw\n",
      "Fetched 65 repositories for user AhmedSoliman\n",
      "Fetched 58 repositories for user eddyerburgh\n",
      "Fetched 85 repositories for user wagerfield\n",
      "Fetched 500 repositories for user alphagov\n",
      "Fetched 62 repositories for user sandromancuso\n",
      "Fetched 60 repositories for user netbiosX\n",
      "Fetched 259 repositories for user karlicoss\n",
      "Fetched 41 repositories for user ixahmedxi\n",
      "Fetched 29 repositories for user shubheksha\n",
      "Fetched 18 repositories for user epinna\n",
      "Fetched 4 repositories for user davem330\n",
      "Fetched 49 repositories for user igorwojda\n",
      "Fetched 118 repositories for user davidstutz\n",
      "Fetched 133 repositories for user knowbody\n",
      "Fetched 153 repositories for user leeper\n",
      "Fetched 139 repositories for user bwplotka\n",
      "Fetched 242 repositories for user sole\n",
      "Fetched 71 repositories for user pablogsal\n",
      "Fetched 500 repositories for user valeman\n",
      "Fetched 11 repositories for user alexgarrettsmith\n",
      "Fetched 12 repositories for user nigeljyng\n",
      "Fetched 71 repositories for user OsandaMalith\n",
      "Fetched 117 repositories for user cdown\n",
      "Fetched 112 repositories for user alexyoung\n",
      "Fetched 104 repositories for user eviltester\n",
      "Fetched 34 repositories for user iancooper\n",
      "Fetched 80 repositories for user azimidev\n",
      "Fetched 56 repositories for user everzet\n",
      "Fetched 285 repositories for user nitin42\n",
      "Fetched 55 repositories for user zhovner\n",
      "Fetched 124 repositories for user pradyunsg\n",
      "Fetched 20 repositories for user Billy-Ellis\n",
      "Fetched 271 repositories for user xtuc\n",
      "Fetched 70 repositories for user jnewbery\n",
      "Fetched 331 repositories for user glebm\n",
      "Fetched 0 repositories for user julianstorer\n",
      "Fetched 16 repositories for user FilipGrebowski\n",
      "Fetched 79 repositories for user csteinmetz1\n",
      "Fetched 7 repositories for user kaz-Anova\n",
      "Fetched 23 repositories for user MaksimAbramchuk\n",
      "Fetched 45 repositories for user eleurent\n",
      "Fetched 81 repositories for user poyea\n",
      "Fetched 105 repositories for user AnaisUrlichs\n",
      "Fetched 69 repositories for user danicat\n",
      "Fetched 179 repositories for user alexanderGugel\n",
      "Fetched 278 repositories for user tugberkugurlu\n",
      "Fetched 53 repositories for user mariusschulz\n",
      "Fetched 24 repositories for user alexbilbie\n",
      "Fetched 130 repositories for user scribu\n",
      "Fetched 24 repositories for user chshersh\n",
      "Fetched 178 repositories for user rtyley\n",
      "Fetched 145 repositories for user ahmetabdi\n",
      "Fetched 88 repositories for user LondonAppDev\n",
      "Fetched 6 repositories for user essentialdevelopercom\n",
      "Fetched 225 repositories for user spences10\n",
      "Fetched 500 repositories for user salaboy\n",
      "Fetched 145 repositories for user Integralist\n",
      "Fetched 71 repositories for user NicolasHug\n",
      "Fetched 198 repositories for user aslakhellesoy\n",
      "Fetched 14 repositories for user Dan-Piker\n",
      "Fetched 16 repositories for user katzien\n",
      "Fetched 38 repositories for user TheEconomist\n",
      "Fetched 50 repositories for user jessicayung\n",
      "Fetched 342 repositories for user ocharles\n",
      "Fetched 162 repositories for user michalmuskala\n",
      "Fetched 104 repositories for user lukejacksonn\n",
      "Fetched 51 repositories for user linusg\n",
      "Fetched 86 repositories for user yiwenl\n",
      "Fetched 44 repositories for user sanchit-gandhi\n",
      "Fetched 56 repositories for user lukehaas\n",
      "Fetched 95 repositories for user pngwn\n",
      "Fetched 99 repositories for user GavinLonDigital\n",
      "Fetched 14 repositories for user davisonio\n",
      "Fetched 163 repositories for user robjtede\n",
      "Fetched 105 repositories for user chidiwilliams\n",
      "Fetched 97 repositories for user Amanieu\n",
      "Fetched 134 repositories for user dastergon\n",
      "Fetched 57 repositories for user Expensify\n",
      "Fetched 39 repositories for user kbuzzard\n",
      "Fetched 207 repositories for user softchris\n",
      "Fetched 48 repositories for user openfaas\n",
      "Fetched 22 repositories for user BohdanOrlov\n",
      "Fetched 94 repositories for user ianozsvald\n",
      "Fetched 44 repositories for user yannickl\n",
      "Fetched 35 repositories for user jodastephen\n",
      "Fetched 319 repositories for user patrick91\n",
      "Fetched 63 repositories for user danilop\n",
      "Fetched 215 repositories for user mottosso\n",
      "Fetched 67 repositories for user AztecProtocol\n",
      "Fetched 98 repositories for user cesarferreira\n",
      "Fetched 32 repositories for user PierfrancescoSoffritti\n",
      "Fetched 36 repositories for user RobertTLange\n",
      "Fetched 63 repositories for user maban\n",
      "Fetched 6 repositories for user jjqqkk\n",
      "Fetched 258 repositories for user Developerayo\n",
      "Fetched 19 repositories for user vrom911\n",
      "Fetched 77 repositories for user risenW\n",
      "Fetched 57 repositories for user pikax\n",
      "Fetched 27 repositories for user bayandin\n",
      "Fetched 100 repositories for user rohitg00\n",
      "Fetched 72 repositories for user myitcv\n",
      "Fetched 5 repositories for user lena-voita\n",
      "Fetched 67 repositories for user Kureev\n",
      "Fetched 61 repositories for user ashvardanian\n",
      "Fetched 167 repositories for user akinsho\n",
      "Fetched 423 repositories for user philhawksworth\n",
      "Fetched 56 repositories for user TomWhitwell\n",
      "Fetched 15 repositories for user benmoseley\n",
      "Fetched 112 repositories for user jasonwilliams\n",
      "Fetched 35 repositories for user thomas-mcdonald\n",
      "Fetched 168 repositories for user Olical\n",
      "Fetched 222 repositories for user yrezgui\n",
      "Fetched 272 repositories for user SonyaMoisset\n",
      "Fetched 301 repositories for user errordeveloper\n",
      "Fetched 83 repositories for user Mononofu\n",
      "Fetched 57 repositories for user dimpurr\n",
      "Fetched 63 repositories for user mattjgalloway\n",
      "Fetched 72 repositories for user appleton\n",
      "Fetched 95 repositories for user omerxx\n",
      "Fetched 29 repositories for user nataliemarleny\n",
      "Fetched 55 repositories for user ButchersBoy\n",
      "Fetched 400 repositories for user UKVeteran\n",
      "Fetched 113 repositories for user BenNeighbour\n",
      "Fetched 21 repositories for user jjenzz\n",
      "Fetched 49 repositories for user GoodBoyDigital\n",
      "Fetched 16 repositories for user mwaterfall\n",
      "Fetched 349 repositories for user ianmiell\n",
      "Fetched 36 repositories for user Him188\n",
      "Fetched 12 repositories for user pattle\n",
      "Fetched 53 repositories for user jakzal\n",
      "Fetched 43 repositories for user hughsie\n",
      "Fetched 76 repositories for user claudio-toledo\n",
      "Fetched 25 repositories for user gontovnik\n",
      "Fetched 195 repositories for user dscape\n",
      "Fetched 110 repositories for user ds300\n",
      "Fetched 34 repositories for user OpenHFT\n",
      "Fetched 8 repositories for user junhyukoh\n",
      "Fetched 65 repositories for user kbenoit\n",
      "Fetched 16 repositories for user whoiskatrin\n",
      "Fetched 0 repositories for user caiozullo\n",
      "Fetched 116 repositories for user tomwilkie\n",
      "Fetched 74 repositories for user hereismari\n",
      "Fetched 42 repositories for user fiorix\n",
      "Fetched 383 repositories for user CodeMaster7000\n",
      "Fetched 22 repositories for user bonzanini\n",
      "Fetched 137 repositories for user bitbrain\n",
      "Fetched 5 repositories for user tobiemh\n",
      "Fetched 93 repositories for user spurin\n",
      "Fetched 34 repositories for user moyheen\n",
      "Fetched 32 repositories for user mihajlija\n",
      "Fetched 61 repositories for user CJ42\n",
      "Fetched 86 repositories for user malmstein\n",
      "Fetched 25 repositories for user snowkylin\n",
      "Fetched 20 repositories for user pedrib\n",
      "Fetched 500 repositories for user ministryofjustice\n",
      "Fetched 149 repositories for user orf\n",
      "Fetched 126 repositories for user casperdcl\n",
      "Fetched 123 repositories for user msusur\n",
      "Fetched 43 repositories for user fb55\n",
      "Fetched 238 repositories for user moabukar\n",
      "Fetched 64 repositories for user playcanvas\n",
      "Fetched 138 repositories for user martincostello\n",
      "Fetched 49 repositories for user amishshah\n",
      "Fetched 44 repositories for user PaulSonOfLars\n",
      "Fetched 151 repositories for user thatfiredev\n",
      "Fetched 303 repositories for user mneedham\n",
      "Fetched 24 repositories for user javache\n",
      "Fetched 22 repositories for user djl11\n",
      "Fetched 44 repositories for user sergdort\n",
      "Fetched 44 repositories for user isaachinman\n",
      "Fetched 75 repositories for user QuiiBz\n",
      "Fetched 55 repositories for user man-group\n",
      "Fetched 181 repositories for user DLu\n",
      "Fetched 138 repositories for user RuiAAPeres\n",
      "Fetched 23 repositories for user hudson-and-thames\n",
      "Fetched 79 repositories for user azimin\n",
      "Fetched 40 repositories for user andresionek91\n",
      "Fetched 59 repositories for user tomstuart\n",
      "Fetched 86 repositories for user ludwigschubert\n",
      "Fetched 150 repositories for user JujuAdams\n",
      "Fetched 66 repositories for user st0012\n",
      "Fetched 12 repositories for user eth0izzle\n",
      "Fetched 82 repositories for user akanimax\n",
      "Fetched 188 repositories for user RichardKnop\n",
      "Fetched 83 repositories for user walaura\n",
      "Fetched 101 repositories for user vorg\n",
      "Fetched 173 repositories for user monzo\n",
      "Fetched 65 repositories for user mwouts\n",
      "Fetched 239 repositories for user AlexsJones\n",
      "Fetched 86 repositories for user Rigellute\n",
      "Fetched 8 repositories for user benyaminahmed\n",
      "Fetched 152 repositories for user Neha\n",
      "Fetched 128 repositories for user ryancdotorg\n",
      "Fetched 87 repositories for user dturner\n",
      "Repository data collection complete!\n"
     ]
    }
   ],
   "source": [
    "import requests\n",
    "import time\n",
    "\n",
    "repos_data = []\n",
    "# Loop through each user and fetch their repositories\n",
    "for user in all_users:\n",
    "    try:\n",
    "        user_repo_data = []  # List to accumulate repositories for this user\n",
    "        page = 1  # Start with the first page for each user\n",
    "\n",
    "        # Loop through pages to fetch up to 500 repositories\n",
    "        while len(user_repo_data) < 500:\n",
    "            # Fetch repositories from the current page\n",
    "            response = requests.get(\n",
    "                user[\"repos_url\"],\n",
    "                headers=headers,\n",
    "                params={\"per_page\": 100, \"page\": page}\n",
    "            )\n",
    "            response.raise_for_status()\n",
    "            page_repos = response.json()\n",
    "\n",
    "            # Break if there are no more repositories\n",
    "            if not page_repos:\n",
    "                break\n",
    "\n",
    "            user_repo_data.extend(page_repos)  # Add this page's repos to the user's list\n",
    "            page += 1  # Move to the next page\n",
    "\n",
    "            # Stop if we've accumulated 500 repositories\n",
    "            if len(user_repo_data) >= 500:\n",
    "                user_repo_data = user_repo_data[:500]  # Trim to exactly 500\n",
    "\n",
    "            time.sleep(1)  # Delay to avoid hitting rate limits\n",
    "\n",
    "        # Process each repository and add to repos_data\n",
    "        for repo in user_repo_data:\n",
    "            user_repo_info = {\n",
    "                \"login\": user.get(\"login\", \"\"),\n",
    "                \"full_name\": repo.get(\"full_name\", \"\"),\n",
    "                \"created_at\": repo.get(\"created_at\", \"\"),\n",
    "                \"stargazers_count\": repo.get(\"stargazers_count\", 0),\n",
    "                \"watchers_count\": repo.get(\"watchers_count\", 0),\n",
    "                \"language\": repo.get(\"language\", \"\"),\n",
    "                \"has_projects\": repo.get(\"has_projects\", False),\n",
    "                \"has_wiki\": repo.get(\"has_wiki\", False),\n",
    "                \"license\": repo.get(\"license\", {}).get(\"key\", \"\") if repo.get(\"license\") else \"\"  # Safely handle nested license key\n",
    "            }\n",
    "            repos_data.append(user_repo_info)\n",
    "\n",
    "        print(f\"Fetched {len(user_repo_data)} repositories for user {user['login']}\")\n",
    "\n",
    "    except requests.exceptions.RequestException as e:\n",
    "        print(f\"Request failed for user {user['login']}: {e}\")\n",
    "        continue  # Skip to the next user on failure\n",
    "\n",
    "print(\"Repository data collection complete!\")\n"
   ]
  },
  {
   "cell_type": "code",
   "execution_count": null,
   "metadata": {},
   "outputs": [],
   "source": [
    "repo_df=pd.DataFrame(repos_data)\n",
    "repo_df.to_csv('repos.csv', index=False)"
   ]
  },
  {
   "cell_type": "code",
   "execution_count": null,
   "metadata": {},
   "outputs": [
    {
     "data": {
      "text/html": [
       "<div>\n",
       "<style scoped>\n",
       "    .dataframe tbody tr th:only-of-type {\n",
       "        vertical-align: middle;\n",
       "    }\n",
       "\n",
       "    .dataframe tbody tr th {\n",
       "        vertical-align: top;\n",
       "    }\n",
       "\n",
       "    .dataframe thead th {\n",
       "        text-align: right;\n",
       "    }\n",
       "</style>\n",
       "<table border=\"1\" class=\"dataframe\">\n",
       "  <thead>\n",
       "    <tr style=\"text-align: right;\">\n",
       "      <th></th>\n",
       "      <th>login</th>\n",
       "      <th>full_name</th>\n",
       "      <th>created_at</th>\n",
       "      <th>stargazers_count</th>\n",
       "      <th>watchers_count</th>\n",
       "      <th>language</th>\n",
       "      <th>has_projects</th>\n",
       "      <th>has_wiki</th>\n",
       "      <th>license</th>\n",
       "    </tr>\n",
       "  </thead>\n",
       "  <tbody>\n",
       "    <tr>\n",
       "      <th>0</th>\n",
       "      <td>tj</td>\n",
       "      <td>tj/archive</td>\n",
       "      <td>2016-02-06T19:50:22Z</td>\n",
       "      <td>1</td>\n",
       "      <td>1</td>\n",
       "      <td>Go</td>\n",
       "      <td>True</td>\n",
       "      <td>True</td>\n",
       "      <td></td>\n",
       "    </tr>\n",
       "    <tr>\n",
       "      <th>1</th>\n",
       "      <td>tj</td>\n",
       "      <td>tj/archivex</td>\n",
       "      <td>2017-06-18T16:28:56Z</td>\n",
       "      <td>1</td>\n",
       "      <td>1</td>\n",
       "      <td>Go</td>\n",
       "      <td>True</td>\n",
       "      <td>True</td>\n",
       "      <td>bsd-3-clause</td>\n",
       "    </tr>\n",
       "    <tr>\n",
       "      <th>2</th>\n",
       "      <td>tj</td>\n",
       "      <td>tj/assert</td>\n",
       "      <td>2017-02-16T21:05:38Z</td>\n",
       "      <td>37</td>\n",
       "      <td>37</td>\n",
       "      <td>Go</td>\n",
       "      <td>True</td>\n",
       "      <td>True</td>\n",
       "      <td>mit</td>\n",
       "    </tr>\n",
       "    <tr>\n",
       "      <th>3</th>\n",
       "      <td>tj</td>\n",
       "      <td>tj/assert-equal-jsx</td>\n",
       "      <td>2016-06-15T14:52:43Z</td>\n",
       "      <td>5</td>\n",
       "      <td>5</td>\n",
       "      <td>JavaScript</td>\n",
       "      <td>True</td>\n",
       "      <td>True</td>\n",
       "      <td>mit</td>\n",
       "    </tr>\n",
       "    <tr>\n",
       "      <th>4</th>\n",
       "      <td>tj</td>\n",
       "      <td>tj/asset</td>\n",
       "      <td>2011-04-04T02:43:12Z</td>\n",
       "      <td>122</td>\n",
       "      <td>122</td>\n",
       "      <td>JavaScript</td>\n",
       "      <td>True</td>\n",
       "      <td>True</td>\n",
       "      <td></td>\n",
       "    </tr>\n",
       "    <tr>\n",
       "      <th>...</th>\n",
       "      <td>...</td>\n",
       "      <td>...</td>\n",
       "      <td>...</td>\n",
       "      <td>...</td>\n",
       "      <td>...</td>\n",
       "      <td>...</td>\n",
       "      <td>...</td>\n",
       "      <td>...</td>\n",
       "      <td>...</td>\n",
       "    </tr>\n",
       "    <tr>\n",
       "      <th>39315</th>\n",
       "      <td>dturner</td>\n",
       "      <td>dturner/Universal-G-Code-Sender</td>\n",
       "      <td>2021-02-24T11:30:38Z</td>\n",
       "      <td>0</td>\n",
       "      <td>0</td>\n",
       "      <td>None</td>\n",
       "      <td>True</td>\n",
       "      <td>True</td>\n",
       "      <td>gpl-3.0</td>\n",
       "    </tr>\n",
       "    <tr>\n",
       "      <th>39316</th>\n",
       "      <td>dturner</td>\n",
       "      <td>dturner/vimconfig</td>\n",
       "      <td>2014-01-10T19:06:05Z</td>\n",
       "      <td>0</td>\n",
       "      <td>0</td>\n",
       "      <td>VimL</td>\n",
       "      <td>True</td>\n",
       "      <td>True</td>\n",
       "      <td></td>\n",
       "    </tr>\n",
       "    <tr>\n",
       "      <th>39317</th>\n",
       "      <td>dturner</td>\n",
       "      <td>dturner/voltage-divider-calc</td>\n",
       "      <td>2020-04-21T20:00:59Z</td>\n",
       "      <td>0</td>\n",
       "      <td>0</td>\n",
       "      <td>None</td>\n",
       "      <td>True</td>\n",
       "      <td>True</td>\n",
       "      <td></td>\n",
       "    </tr>\n",
       "    <tr>\n",
       "      <th>39318</th>\n",
       "      <td>dturner</td>\n",
       "      <td>dturner/walt</td>\n",
       "      <td>2016-06-15T09:39:45Z</td>\n",
       "      <td>0</td>\n",
       "      <td>0</td>\n",
       "      <td>Java</td>\n",
       "      <td>True</td>\n",
       "      <td>False</td>\n",
       "      <td>apache-2.0</td>\n",
       "    </tr>\n",
       "    <tr>\n",
       "      <th>39319</th>\n",
       "      <td>dturner</td>\n",
       "      <td>dturner/yii</td>\n",
       "      <td>2013-01-17T21:35:31Z</td>\n",
       "      <td>0</td>\n",
       "      <td>0</td>\n",
       "      <td>PHP</td>\n",
       "      <td>True</td>\n",
       "      <td>True</td>\n",
       "      <td>other</td>\n",
       "    </tr>\n",
       "  </tbody>\n",
       "</table>\n",
       "<p>39320 rows × 9 columns</p>\n",
       "</div>"
      ],
      "text/plain": [
       "         login                        full_name            created_at  \\\n",
       "0           tj                       tj/archive  2016-02-06T19:50:22Z   \n",
       "1           tj                      tj/archivex  2017-06-18T16:28:56Z   \n",
       "2           tj                        tj/assert  2017-02-16T21:05:38Z   \n",
       "3           tj              tj/assert-equal-jsx  2016-06-15T14:52:43Z   \n",
       "4           tj                         tj/asset  2011-04-04T02:43:12Z   \n",
       "...        ...                              ...                   ...   \n",
       "39315  dturner  dturner/Universal-G-Code-Sender  2021-02-24T11:30:38Z   \n",
       "39316  dturner                dturner/vimconfig  2014-01-10T19:06:05Z   \n",
       "39317  dturner     dturner/voltage-divider-calc  2020-04-21T20:00:59Z   \n",
       "39318  dturner                     dturner/walt  2016-06-15T09:39:45Z   \n",
       "39319  dturner                      dturner/yii  2013-01-17T21:35:31Z   \n",
       "\n",
       "       stargazers_count  watchers_count    language  has_projects  has_wiki  \\\n",
       "0                     1               1          Go          True      True   \n",
       "1                     1               1          Go          True      True   \n",
       "2                    37              37          Go          True      True   \n",
       "3                     5               5  JavaScript          True      True   \n",
       "4                   122             122  JavaScript          True      True   \n",
       "...                 ...             ...         ...           ...       ...   \n",
       "39315                 0               0        None          True      True   \n",
       "39316                 0               0        VimL          True      True   \n",
       "39317                 0               0        None          True      True   \n",
       "39318                 0               0        Java          True     False   \n",
       "39319                 0               0         PHP          True      True   \n",
       "\n",
       "            license  \n",
       "0                    \n",
       "1      bsd-3-clause  \n",
       "2               mit  \n",
       "3               mit  \n",
       "4                    \n",
       "...             ...  \n",
       "39315       gpl-3.0  \n",
       "39316                \n",
       "39317                \n",
       "39318    apache-2.0  \n",
       "39319         other  \n",
       "\n",
       "[39320 rows x 9 columns]"
      ]
     },
     "execution_count": 30,
     "metadata": {},
     "output_type": "execute_result"
    }
   ],
   "source": [
    "repo_df"
   ]
  },
  {
   "cell_type": "code",
   "execution_count": null,
   "metadata": {},
   "outputs": [
    {
     "name": "stdout",
     "output_type": "stream",
     "text": [
      "CSV file updated successfully!\n"
     ]
    }
   ],
   "source": [
    "df = pd.read_csv(\"repositories.csv\")\n",
    "\n",
    "# Replace True/False with true/false\n",
    "df = df.replace({True: \"true\", False: \"false\"})\n",
    "\n",
    "# Save the modified DataFrame back to the original file\n",
    "df.to_csv(\"repositories.csv\", index=False)\n",
    "\n",
    "print(\"CSV file updated successfully!\")"
   ]
  },
  {
   "cell_type": "code",
   "execution_count": null,
   "metadata": {},
   "outputs": [],
   "source": [
    "df=pd.read_csv('repositories.csv')\n",
    "df = df.rename(columns={\"license\": \"license_name\"})\n",
    "df.to_csv('repositories.csv', index=False)"
   ]
  },
  {
   "cell_type": "code",
   "execution_count": null,
   "metadata": {},
   "outputs": [],
   "source": [
    "user_df=pd.read_csv('users.csv')\n",
    "repo_df=pd.read_csv('repositories.csv')"
   ]
  },
  {
   "cell_type": "markdown",
   "metadata": {},
   "source": [
    "Q1"
   ]
  },
  {
   "cell_type": "code",
   "execution_count": null,
   "metadata": {},
   "outputs": [
    {
     "data": {
      "text/html": [
       "<div>\n",
       "<style scoped>\n",
       "    .dataframe tbody tr th:only-of-type {\n",
       "        vertical-align: middle;\n",
       "    }\n",
       "\n",
       "    .dataframe tbody tr th {\n",
       "        vertical-align: top;\n",
       "    }\n",
       "\n",
       "    .dataframe thead th {\n",
       "        text-align: right;\n",
       "    }\n",
       "</style>\n",
       "<table border=\"1\" class=\"dataframe\">\n",
       "  <thead>\n",
       "    <tr style=\"text-align: right;\">\n",
       "      <th></th>\n",
       "      <th>login</th>\n",
       "      <th>name</th>\n",
       "      <th>company</th>\n",
       "      <th>location</th>\n",
       "      <th>email</th>\n",
       "      <th>hireable</th>\n",
       "      <th>bio</th>\n",
       "      <th>public_repos</th>\n",
       "      <th>followers</th>\n",
       "      <th>following</th>\n",
       "      <th>created_at</th>\n",
       "    </tr>\n",
       "  </thead>\n",
       "  <tbody>\n",
       "    <tr>\n",
       "      <th>0</th>\n",
       "      <td>tj</td>\n",
       "      <td>TJ Holowaychuk</td>\n",
       "      <td>APEX</td>\n",
       "      <td>London, UK</td>\n",
       "      <td>tj@apex.sh</td>\n",
       "      <td>NaN</td>\n",
       "      <td>NaN</td>\n",
       "      <td>296</td>\n",
       "      <td>50861</td>\n",
       "      <td>45</td>\n",
       "      <td>2008-09-18T22:37:28Z</td>\n",
       "    </tr>\n",
       "    <tr>\n",
       "      <th>1</th>\n",
       "      <td>kunal-kushwaha</td>\n",
       "      <td>Kunal Kushwaha</td>\n",
       "      <td>CIVO</td>\n",
       "      <td>London, UK</td>\n",
       "      <td>contact@techwithkunal.com</td>\n",
       "      <td>NaN</td>\n",
       "      <td>Field CTO @civo. Founder @WeMakeDevs</td>\n",
       "      <td>46</td>\n",
       "      <td>30828</td>\n",
       "      <td>0</td>\n",
       "      <td>2018-08-25T15:01:59Z</td>\n",
       "    </tr>\n",
       "    <tr>\n",
       "      <th>2</th>\n",
       "      <td>angelabauer</td>\n",
       "      <td>Angela Yu</td>\n",
       "      <td>APPBREWERY</td>\n",
       "      <td>London, UK</td>\n",
       "      <td>NaN</td>\n",
       "      <td>NaN</td>\n",
       "      <td>Medical doctor. Developer. Founder of the App ...</td>\n",
       "      <td>41</td>\n",
       "      <td>18641</td>\n",
       "      <td>0</td>\n",
       "      <td>2014-09-16T21:03:28Z</td>\n",
       "    </tr>\n",
       "    <tr>\n",
       "      <th>3</th>\n",
       "      <td>jlord</td>\n",
       "      <td>Jessica Lord</td>\n",
       "      <td>NaN</td>\n",
       "      <td>London, England</td>\n",
       "      <td>NaN</td>\n",
       "      <td>NaN</td>\n",
       "      <td>Urban designer turned open source developer. S...</td>\n",
       "      <td>169</td>\n",
       "      <td>16356</td>\n",
       "      <td>30</td>\n",
       "      <td>2012-01-05T03:24:52Z</td>\n",
       "    </tr>\n",
       "    <tr>\n",
       "      <th>4</th>\n",
       "      <td>Elfocrash</td>\n",
       "      <td>Nick Chapsas</td>\n",
       "      <td>NaN</td>\n",
       "      <td>London, UK</td>\n",
       "      <td>nick@nickchapsas.com</td>\n",
       "      <td>NaN</td>\n",
       "      <td>Content creator for C# &amp; .NET</td>\n",
       "      <td>49</td>\n",
       "      <td>10582</td>\n",
       "      <td>0</td>\n",
       "      <td>2014-07-18T09:32:23Z</td>\n",
       "    </tr>\n",
       "  </tbody>\n",
       "</table>\n",
       "</div>"
      ],
      "text/plain": [
       "            login            name     company         location  \\\n",
       "0              tj  TJ Holowaychuk        APEX       London, UK   \n",
       "1  kunal-kushwaha  Kunal Kushwaha        CIVO       London, UK   \n",
       "2     angelabauer       Angela Yu  APPBREWERY       London, UK   \n",
       "3           jlord    Jessica Lord         NaN  London, England   \n",
       "4       Elfocrash    Nick Chapsas         NaN       London, UK   \n",
       "\n",
       "                       email hireable  \\\n",
       "0                 tj@apex.sh      NaN   \n",
       "1  contact@techwithkunal.com      NaN   \n",
       "2                        NaN      NaN   \n",
       "3                        NaN      NaN   \n",
       "4       nick@nickchapsas.com      NaN   \n",
       "\n",
       "                                                 bio  public_repos  followers  \\\n",
       "0                                                NaN           296      50861   \n",
       "1              Field CTO @civo. Founder @WeMakeDevs             46      30828   \n",
       "2  Medical doctor. Developer. Founder of the App ...            41      18641   \n",
       "3  Urban designer turned open source developer. S...           169      16356   \n",
       "4                      Content creator for C# & .NET            49      10582   \n",
       "\n",
       "   following            created_at  \n",
       "0         45  2008-09-18T22:37:28Z  \n",
       "1          0  2018-08-25T15:01:59Z  \n",
       "2          0  2014-09-16T21:03:28Z  \n",
       "3         30  2012-01-05T03:24:52Z  \n",
       "4          0  2014-07-18T09:32:23Z  "
      ]
     },
     "execution_count": 39,
     "metadata": {},
     "output_type": "execute_result"
    }
   ],
   "source": [
    "user_df.sort_values(by='followers', ascending=False).head(5)"
   ]
  },
  {
   "cell_type": "markdown",
   "metadata": {},
   "source": [
    "Q2"
   ]
  },
  {
   "cell_type": "code",
   "execution_count": null,
   "metadata": {},
   "outputs": [
    {
     "data": {
      "text/html": [
       "<div>\n",
       "<style scoped>\n",
       "    .dataframe tbody tr th:only-of-type {\n",
       "        vertical-align: middle;\n",
       "    }\n",
       "\n",
       "    .dataframe tbody tr th {\n",
       "        vertical-align: top;\n",
       "    }\n",
       "\n",
       "    .dataframe thead th {\n",
       "        text-align: right;\n",
       "    }\n",
       "</style>\n",
       "<table border=\"1\" class=\"dataframe\">\n",
       "  <thead>\n",
       "    <tr style=\"text-align: right;\">\n",
       "      <th></th>\n",
       "      <th>login</th>\n",
       "      <th>name</th>\n",
       "      <th>company</th>\n",
       "      <th>location</th>\n",
       "      <th>email</th>\n",
       "      <th>hireable</th>\n",
       "      <th>bio</th>\n",
       "      <th>public_repos</th>\n",
       "      <th>followers</th>\n",
       "      <th>following</th>\n",
       "      <th>created_at</th>\n",
       "    </tr>\n",
       "  </thead>\n",
       "  <tbody>\n",
       "    <tr>\n",
       "      <th>189</th>\n",
       "      <td>aslakhellesoy</td>\n",
       "      <td>Aslak Hellesøy</td>\n",
       "      <td>SMARTBEAR</td>\n",
       "      <td>London, UK</td>\n",
       "      <td>NaN</td>\n",
       "      <td>True</td>\n",
       "      <td>🥒</td>\n",
       "      <td>198</td>\n",
       "      <td>784</td>\n",
       "      <td>1</td>\n",
       "      <td>2008-02-26T22:58:16Z</td>\n",
       "    </tr>\n",
       "    <tr>\n",
       "      <th>308</th>\n",
       "      <td>tomstuart</td>\n",
       "      <td>Tom Stuart</td>\n",
       "      <td>NaN</td>\n",
       "      <td>London</td>\n",
       "      <td>hi@tomstu.art</td>\n",
       "      <td>NaN</td>\n",
       "      <td>NaN</td>\n",
       "      <td>59</td>\n",
       "      <td>524</td>\n",
       "      <td>4</td>\n",
       "      <td>2008-03-17T09:15:49Z</td>\n",
       "    </tr>\n",
       "    <tr>\n",
       "      <th>147</th>\n",
       "      <td>sole</td>\n",
       "      <td>sole</td>\n",
       "      <td>NaN</td>\n",
       "      <td>London, UK</td>\n",
       "      <td>NaN</td>\n",
       "      <td>NaN</td>\n",
       "      <td>Biodegradable</td>\n",
       "      <td>242</td>\n",
       "      <td>979</td>\n",
       "      <td>12</td>\n",
       "      <td>2008-04-07T16:27:00Z</td>\n",
       "    </tr>\n",
       "    <tr>\n",
       "      <th>297</th>\n",
       "      <td>javache</td>\n",
       "      <td>Pieter De Baets</td>\n",
       "      <td>FACEBOOK</td>\n",
       "      <td>London, UK</td>\n",
       "      <td>NaN</td>\n",
       "      <td>NaN</td>\n",
       "      <td>NaN</td>\n",
       "      <td>24</td>\n",
       "      <td>535</td>\n",
       "      <td>46</td>\n",
       "      <td>2008-04-07T20:41:02Z</td>\n",
       "    </tr>\n",
       "    <tr>\n",
       "      <th>236</th>\n",
       "      <td>philhawksworth</td>\n",
       "      <td>Phil Hawksworth</td>\n",
       "      <td>DENOLAND</td>\n",
       "      <td>London</td>\n",
       "      <td>phil@deno.com</td>\n",
       "      <td>NaN</td>\n",
       "      <td>Head of Developer Relations at @denoland \\r\\n\\...</td>\n",
       "      <td>423</td>\n",
       "      <td>670</td>\n",
       "      <td>25</td>\n",
       "      <td>2008-04-08T16:52:05Z</td>\n",
       "    </tr>\n",
       "  </tbody>\n",
       "</table>\n",
       "</div>"
      ],
      "text/plain": [
       "              login             name    company    location          email  \\\n",
       "189   aslakhellesoy   Aslak Hellesøy  SMARTBEAR  London, UK            NaN   \n",
       "308       tomstuart       Tom Stuart        NaN      London  hi@tomstu.art   \n",
       "147            sole             sole        NaN  London, UK            NaN   \n",
       "297         javache  Pieter De Baets   FACEBOOK  London, UK            NaN   \n",
       "236  philhawksworth  Phil Hawksworth   DENOLAND      London  phil@deno.com   \n",
       "\n",
       "    hireable                                                bio  public_repos  \\\n",
       "189     True                                                  🥒           198   \n",
       "308      NaN                                                NaN            59   \n",
       "147      NaN                                      Biodegradable           242   \n",
       "297      NaN                                                NaN            24   \n",
       "236      NaN  Head of Developer Relations at @denoland \\r\\n\\...           423   \n",
       "\n",
       "     followers  following            created_at  \n",
       "189        784          1  2008-02-26T22:58:16Z  \n",
       "308        524          4  2008-03-17T09:15:49Z  \n",
       "147        979         12  2008-04-07T16:27:00Z  \n",
       "297        535         46  2008-04-07T20:41:02Z  \n",
       "236        670         25  2008-04-08T16:52:05Z  "
      ]
     },
     "execution_count": 40,
     "metadata": {},
     "output_type": "execute_result"
    }
   ],
   "source": [
    "user_df.sort_values(by='created_at').head(5)"
   ]
  },
  {
   "cell_type": "markdown",
   "metadata": {},
   "source": [
    "Q3"
   ]
  },
  {
   "cell_type": "code",
   "execution_count": null,
   "metadata": {},
   "outputs": [
    {
     "data": {
      "text/plain": [
       "license_name\n",
       "mit           10535\n",
       "apache-2.0     4245\n",
       "other          3022\n",
       "Name: count, dtype: int64"
      ]
     },
     "execution_count": 47,
     "metadata": {},
     "output_type": "execute_result"
    }
   ],
   "source": [
    "repo_df[\"license_name\"].value_counts().head(3)"
   ]
  },
  {
   "cell_type": "markdown",
   "metadata": {},
   "source": [
    "Q4"
   ]
  },
  {
   "cell_type": "code",
   "execution_count": null,
   "metadata": {},
   "outputs": [
    {
     "data": {
      "text/plain": [
       "company\n",
       "FACEBOOK    14\n",
       "Name: count, dtype: int64"
      ]
     },
     "execution_count": 48,
     "metadata": {},
     "output_type": "execute_result"
    }
   ],
   "source": [
    "user_df[\"company\"].value_counts().head(1)"
   ]
  },
  {
   "cell_type": "markdown",
   "metadata": {},
   "source": [
    "Q5"
   ]
  },
  {
   "cell_type": "code",
   "execution_count": null,
   "metadata": {},
   "outputs": [
    {
     "data": {
      "text/plain": [
       "language\n",
       "JavaScript    8646\n",
       "Name: count, dtype: int64"
      ]
     },
     "execution_count": 49,
     "metadata": {},
     "output_type": "execute_result"
    }
   ],
   "source": [
    "repo_df[\"language\"].value_counts().head(1)"
   ]
  },
  {
   "cell_type": "markdown",
   "metadata": {},
   "source": [
    "Q6"
   ]
  },
  {
   "cell_type": "code",
   "execution_count": null,
   "metadata": {},
   "outputs": [],
   "source": [
    "import numpy as np\n",
    "condition=user_df[\"created_at\"]>=\"2021-01-01\"\n",
    "users=np.array(user_df[condition][\"login\"])"
   ]
  },
  {
   "cell_type": "code",
   "execution_count": null,
   "metadata": {},
   "outputs": [
    {
     "data": {
      "text/plain": [
       "language\n",
       "Python        158\n",
       "JavaScript     48\n",
       "TypeScript     41\n",
       "CSS            28\n",
       "HTML           25\n",
       "Name: count, dtype: int64"
      ]
     },
     "execution_count": 62,
     "metadata": {},
     "output_type": "execute_result"
    }
   ],
   "source": [
    "repo_df[repo_df[\"login\"].isin(users)][\"language\"].value_counts().head(5)"
   ]
  },
  {
   "cell_type": "markdown",
   "metadata": {},
   "source": [
    "Q7"
   ]
  },
  {
   "cell_type": "code",
   "execution_count": null,
   "metadata": {},
   "outputs": [
    {
     "data": {
      "text/plain": [
       "language\n",
       "Sass                1157.333333\n",
       "Rich Text Format     571.500000\n",
       "Nushell              524.500000\n",
       "Raku                 488.000000\n",
       "ActionScript         484.125000\n",
       "Name: stargazers_count, dtype: float64"
      ]
     },
     "execution_count": 64,
     "metadata": {},
     "output_type": "execute_result"
    }
   ],
   "source": [
    "repo_df.groupby(\"language\")[\"stargazers_count\"].mean().sort_values(ascending=False).head(5)"
   ]
  },
  {
   "cell_type": "markdown",
   "metadata": {},
   "source": [
    "Q8"
   ]
  },
  {
   "cell_type": "code",
   "execution_count": null,
   "metadata": {},
   "outputs": [],
   "source": [
    "user_df[\"leader_strength\"]=user_df[\"followers\"]/(user_df[\"following\"]+1)"
   ]
  },
  {
   "cell_type": "code",
   "execution_count": null,
   "metadata": {},
   "outputs": [
    {
     "data": {
      "text/html": [
       "<div>\n",
       "<style scoped>\n",
       "    .dataframe tbody tr th:only-of-type {\n",
       "        vertical-align: middle;\n",
       "    }\n",
       "\n",
       "    .dataframe tbody tr th {\n",
       "        vertical-align: top;\n",
       "    }\n",
       "\n",
       "    .dataframe thead th {\n",
       "        text-align: right;\n",
       "    }\n",
       "</style>\n",
       "<table border=\"1\" class=\"dataframe\">\n",
       "  <thead>\n",
       "    <tr style=\"text-align: right;\">\n",
       "      <th></th>\n",
       "      <th>login</th>\n",
       "      <th>name</th>\n",
       "      <th>company</th>\n",
       "      <th>location</th>\n",
       "      <th>email</th>\n",
       "      <th>hireable</th>\n",
       "      <th>bio</th>\n",
       "      <th>public_repos</th>\n",
       "      <th>followers</th>\n",
       "      <th>following</th>\n",
       "      <th>created_at</th>\n",
       "      <th>leader_strength</th>\n",
       "    </tr>\n",
       "  </thead>\n",
       "  <tbody>\n",
       "    <tr>\n",
       "      <th>1</th>\n",
       "      <td>kunal-kushwaha</td>\n",
       "      <td>Kunal Kushwaha</td>\n",
       "      <td>CIVO</td>\n",
       "      <td>London, UK</td>\n",
       "      <td>contact@techwithkunal.com</td>\n",
       "      <td>NaN</td>\n",
       "      <td>Field CTO @civo. Founder @WeMakeDevs</td>\n",
       "      <td>46</td>\n",
       "      <td>30828</td>\n",
       "      <td>0</td>\n",
       "      <td>2018-08-25T15:01:59Z</td>\n",
       "      <td>30828.0</td>\n",
       "    </tr>\n",
       "    <tr>\n",
       "      <th>2</th>\n",
       "      <td>angelabauer</td>\n",
       "      <td>Angela Yu</td>\n",
       "      <td>APPBREWERY</td>\n",
       "      <td>London, UK</td>\n",
       "      <td>NaN</td>\n",
       "      <td>NaN</td>\n",
       "      <td>Medical doctor. Developer. Founder of the App ...</td>\n",
       "      <td>41</td>\n",
       "      <td>18641</td>\n",
       "      <td>0</td>\n",
       "      <td>2014-09-16T21:03:28Z</td>\n",
       "      <td>18641.0</td>\n",
       "    </tr>\n",
       "    <tr>\n",
       "      <th>4</th>\n",
       "      <td>Elfocrash</td>\n",
       "      <td>Nick Chapsas</td>\n",
       "      <td>NaN</td>\n",
       "      <td>London, UK</td>\n",
       "      <td>nick@nickchapsas.com</td>\n",
       "      <td>NaN</td>\n",
       "      <td>Content creator for C# &amp; .NET</td>\n",
       "      <td>49</td>\n",
       "      <td>10582</td>\n",
       "      <td>0</td>\n",
       "      <td>2014-07-18T09:32:23Z</td>\n",
       "      <td>10582.0</td>\n",
       "    </tr>\n",
       "    <tr>\n",
       "      <th>8</th>\n",
       "      <td>LaravelDaily</td>\n",
       "      <td>Laravel Daily</td>\n",
       "      <td>LARAVEL DAILY</td>\n",
       "      <td>Vilnius, Lithuania / London, UK</td>\n",
       "      <td>info@laraveldaily.com</td>\n",
       "      <td>True</td>\n",
       "      <td>Team of Laravel developers with experience sin...</td>\n",
       "      <td>362</td>\n",
       "      <td>7278</td>\n",
       "      <td>0</td>\n",
       "      <td>2015-10-27T11:27:30Z</td>\n",
       "      <td>7278.0</td>\n",
       "    </tr>\n",
       "    <tr>\n",
       "      <th>11</th>\n",
       "      <td>cloudflare</td>\n",
       "      <td>Cloudflare</td>\n",
       "      <td>NaN</td>\n",
       "      <td>San Francisco, London, Austin, Lisbon, Singapore</td>\n",
       "      <td>NaN</td>\n",
       "      <td>NaN</td>\n",
       "      <td>NaN</td>\n",
       "      <td>475</td>\n",
       "      <td>6433</td>\n",
       "      <td>0</td>\n",
       "      <td>2010-06-25T01:24:59Z</td>\n",
       "      <td>6433.0</td>\n",
       "    </tr>\n",
       "  </tbody>\n",
       "</table>\n",
       "</div>"
      ],
      "text/plain": [
       "             login            name        company  \\\n",
       "1   kunal-kushwaha  Kunal Kushwaha           CIVO   \n",
       "2      angelabauer       Angela Yu     APPBREWERY   \n",
       "4        Elfocrash    Nick Chapsas            NaN   \n",
       "8     LaravelDaily   Laravel Daily  LARAVEL DAILY   \n",
       "11      cloudflare      Cloudflare            NaN   \n",
       "\n",
       "                                            location  \\\n",
       "1                                         London, UK   \n",
       "2                                         London, UK   \n",
       "4                                         London, UK   \n",
       "8                    Vilnius, Lithuania / London, UK   \n",
       "11  San Francisco, London, Austin, Lisbon, Singapore   \n",
       "\n",
       "                        email hireable  \\\n",
       "1   contact@techwithkunal.com      NaN   \n",
       "2                         NaN      NaN   \n",
       "4        nick@nickchapsas.com      NaN   \n",
       "8       info@laraveldaily.com     True   \n",
       "11                        NaN      NaN   \n",
       "\n",
       "                                                  bio  public_repos  \\\n",
       "1               Field CTO @civo. Founder @WeMakeDevs             46   \n",
       "2   Medical doctor. Developer. Founder of the App ...            41   \n",
       "4                       Content creator for C# & .NET            49   \n",
       "8   Team of Laravel developers with experience sin...           362   \n",
       "11                                                NaN           475   \n",
       "\n",
       "    followers  following            created_at  leader_strength  \n",
       "1       30828          0  2018-08-25T15:01:59Z          30828.0  \n",
       "2       18641          0  2014-09-16T21:03:28Z          18641.0  \n",
       "4       10582          0  2014-07-18T09:32:23Z          10582.0  \n",
       "8        7278          0  2015-10-27T11:27:30Z           7278.0  \n",
       "11       6433          0  2010-06-25T01:24:59Z           6433.0  "
      ]
     },
     "execution_count": 67,
     "metadata": {},
     "output_type": "execute_result"
    }
   ],
   "source": [
    "user_df.sort_values(by='leader_strength', ascending=False).head(5)"
   ]
  },
  {
   "cell_type": "markdown",
   "metadata": {},
   "source": [
    "Q9"
   ]
  },
  {
   "cell_type": "code",
   "execution_count": null,
   "metadata": {},
   "outputs": [
    {
     "data": {
      "text/plain": [
       "np.float64(0.028457985581810435)"
      ]
     },
     "execution_count": 68,
     "metadata": {},
     "output_type": "execute_result"
    }
   ],
   "source": [
    "corr=user_df[\"followers\"].corr(user_df[\"public_repos\"])\n",
    "corr"
   ]
  },
  {
   "cell_type": "markdown",
   "metadata": {},
   "source": [
    "Q10"
   ]
  },
  {
   "cell_type": "code",
   "execution_count": null,
   "metadata": {},
   "outputs": [],
   "source": [
    "# !pip install statsmodels"
   ]
  },
  {
   "cell_type": "code",
   "execution_count": null,
   "metadata": {},
   "outputs": [
    {
     "name": "stdout",
     "output_type": "stream",
     "text": [
      "                            OLS Regression Results                            \n",
      "==============================================================================\n",
      "Dep. Variable:              followers   R-squared:                       0.001\n",
      "Model:                            OLS   Adj. R-squared:                 -0.002\n",
      "Method:                 Least Squares   F-statistic:                    0.2618\n",
      "Date:                Tue, 29 Oct 2024   Prob (F-statistic):              0.609\n",
      "Time:                        16:34:14   Log-Likelihood:                -3132.1\n",
      "No. Observations:                 325   AIC:                             6268.\n",
      "Df Residuals:                     323   BIC:                             6276.\n",
      "Df Model:                           1                                         \n",
      "Covariance Type:            nonrobust                                         \n",
      "================================================================================\n",
      "                   coef    std err          t      P>|t|      [0.025      0.975]\n",
      "--------------------------------------------------------------------------------\n",
      "const         1775.5664    208.452      8.518      0.000    1365.471    2185.662\n",
      "public_repos     0.0672      0.131      0.512      0.609      -0.191       0.326\n",
      "==============================================================================\n",
      "Omnibus:                      542.505   Durbin-Watson:                   0.134\n",
      "Prob(Omnibus):                  0.000   Jarque-Bera (JB):           154524.007\n",
      "Skew:                           9.223   Prob(JB):                         0.00\n",
      "Kurtosis:                     108.218   Cond. No.                     1.60e+03\n",
      "==============================================================================\n",
      "\n",
      "Notes:\n",
      "[1] Standard Errors assume that the covariance matrix of the errors is correctly specified.\n",
      "[2] The condition number is large, 1.6e+03. This might indicate that there are\n",
      "strong multicollinearity or other numerical problems.\n",
      "Estimated additional followers per additional public repository: 0.07\n"
     ]
    }
   ],
   "source": [
    "import statsmodels.api as sm\n",
    "# Fit the regression model\n",
    "\n",
    "X=user_df[\"public_repos\"]\n",
    "y=user_df[\"followers\"]\n",
    "# Add a constant to the model (for the intercept)\n",
    "X = sm.add_constant(X)\n",
    "model = sm.OLS(y, X).fit()\n",
    "\n",
    "# Print the regression summary\n",
    "print(model.summary())\n",
    "additional_followers_per_repo = model.params['public_repos']\n",
    "print(f\"Estimated additional followers per additional public repository: {additional_followers_per_repo:.2f}\")"
   ]
  },
  {
   "cell_type": "markdown",
   "metadata": {},
   "source": [
    "Q11"
   ]
  },
  {
   "cell_type": "code",
   "execution_count": 2,
   "metadata": {},
   "outputs": [
    {
     "data": {
      "text/plain": [
       "np.float64(0.4327496141171913)"
      ]
     },
     "execution_count": 2,
     "metadata": {},
     "output_type": "execute_result"
    }
   ],
   "source": [
    "import pandas as pd\n",
    "repo_df=pd.read_csv('repositories.csv')\n",
    "user_df=pd.read_csv('users.csv')\n",
    "# Convert has_projects and has_wiki to numeric (0 and 1)\n",
    "repo_df['has_projects'] = repo_df['has_projects'].replace({\"true\": 1, \"false\": 0})\n",
    "repo_df['has_wiki'] = repo_df['has_wiki'].replace({\"true\": 1, \"false\": 0})\n",
    "corr=repo_df[\"has_wiki\"].corr(repo_df[\"has_projects\"])\n",
    "corr"
   ]
  },
  {
   "cell_type": "markdown",
   "metadata": {},
   "source": [
    "Q12"
   ]
  },
  {
   "cell_type": "code",
   "execution_count": null,
   "metadata": {},
   "outputs": [],
   "source": [
    "user_df[user_df[\"hireable\"]!=True]"
   ]
  },
  {
   "cell_type": "code",
   "execution_count": 11,
   "metadata": {},
   "outputs": [
    {
     "data": {
      "text/plain": [
       "np.float64(1067.538022631377)"
      ]
     },
     "execution_count": 11,
     "metadata": {},
     "output_type": "execute_result"
    }
   ],
   "source": [
    "ans=user_df[user_df[\"hireable\"]==True][\"following\"].mean()-user_df[user_df[\"hireable\"]!=True][\"following\"].mean()\n",
    "ans"
   ]
  },
  {
   "cell_type": "markdown",
   "metadata": {},
   "source": [
    "Q13"
   ]
  },
  {
   "cell_type": "code",
   "execution_count": 20,
   "metadata": {},
   "outputs": [
    {
     "data": {
      "text/plain": [
       "0                                                    NaN\n",
       "1                  Field CTO @civo. Founder @WeMakeDevs \n",
       "2      Medical doctor. Developer. Founder of the App ...\n",
       "3      Urban designer turned open source developer. S...\n",
       "4                          Content creator for C# & .NET\n",
       "                             ...                        \n",
       "320    Software consultant. Author of spotify-tui. Lo...\n",
       "321                                                  NaN\n",
       "322                                                  </>\n",
       "323    Hacker. Bot slayer. Ex-sysadmin. Bureaucramanc...\n",
       "324    Android Developer Relations Engineer  \\r\\n@goo...\n",
       "Name: bio, Length: 325, dtype: object"
      ]
     },
     "execution_count": 20,
     "metadata": {},
     "output_type": "execute_result"
    }
   ],
   "source": [
    "user_df=pd.read_csv('users.csv')\n",
    "user_df[\"bio\"]"
   ]
  },
  {
   "cell_type": "code",
   "execution_count": 30,
   "metadata": {},
   "outputs": [
    {
     "data": {
      "text/plain": [
       "0                                                       \n",
       "1                  Field CTO @civo. Founder @WeMakeDevs \n",
       "2      Medical doctor. Developer. Founder of the App ...\n",
       "3      Urban designer turned open source developer. S...\n",
       "4                          Content creator for C# & .NET\n",
       "                             ...                        \n",
       "320    Software consultant. Author of spotify-tui. Lo...\n",
       "321                                                     \n",
       "322                                                  </>\n",
       "323    Hacker. Bot slayer. Ex-sysadmin. Bureaucramanc...\n",
       "324    Android Developer Relations Engineer  \\r\\n@goo...\n",
       "Name: bio, Length: 325, dtype: object"
      ]
     },
     "execution_count": 30,
     "metadata": {},
     "output_type": "execute_result"
    }
   ],
   "source": [
    "user_df.fillna(\"\", inplace=True)\n",
    "user_df[\"bio\"]"
   ]
  },
  {
   "cell_type": "code",
   "execution_count": 26,
   "metadata": {},
   "outputs": [],
   "source": [
    "\n",
    "# Load the CSV file\n",
    "user_df = pd.read_csv(\"users.csv\")\n",
    "\n",
    "# Replace all NaN values with empty strings\n",
    "user_df = user_df.fillna(\"\")\n",
    "\n",
    "# Replace all boolean values (True/False) with string \"true\"/\"false\"\n",
    "user_df = user_df.replace({True: \"true\", False: \"false\"})\n",
    "\n",
    "# Save the modified DataFrame back to the original CSV file\n",
    "user_df.to_csv(\"users.csv\", index=False)"
   ]
  },
  {
   "cell_type": "code",
   "execution_count": 29,
   "metadata": {},
   "outputs": [
    {
     "data": {
      "text/plain": [
       "0                                                    NaN\n",
       "1                  Field CTO @civo. Founder @WeMakeDevs \n",
       "2      Medical doctor. Developer. Founder of the App ...\n",
       "3      Urban designer turned open source developer. S...\n",
       "4                          Content creator for C# & .NET\n",
       "                             ...                        \n",
       "320    Software consultant. Author of spotify-tui. Lo...\n",
       "321                                                  NaN\n",
       "322                                                  </>\n",
       "323    Hacker. Bot slayer. Ex-sysadmin. Bureaucramanc...\n",
       "324    Android Developer Relations Engineer  \\r\\n@goo...\n",
       "Name: bio, Length: 325, dtype: object"
      ]
     },
     "execution_count": 29,
     "metadata": {},
     "output_type": "execute_result"
    }
   ],
   "source": [
    "user_df[\"bio\"]"
   ]
  },
  {
   "cell_type": "code",
   "execution_count": 31,
   "metadata": {},
   "outputs": [
    {
     "name": "stdout",
     "output_type": "stream",
     "text": [
      "Correlation between bio length and followers: -0.02602401608912862\n"
     ]
    }
   ],
   "source": [
    "user_df=pd.read_csv('users.csv')\n",
    "# Calculate bio length by counting words, handling missing values in \"bio\" with fillna\n",
    "user_df[\"bio_length\"] = user_df[\"bio\"].fillna(\"\").apply(lambda x: len(x.split()))\n",
    "\n",
    "# Calculate correlation between bio length and followers\n",
    "correlation = user_df[\"bio_length\"].corr(user_df[\"followers\"])\n",
    "\n",
    "print(\"Correlation between bio length and followers:\", correlation)\n"
   ]
  },
  {
   "cell_type": "markdown",
   "metadata": {},
   "source": [
    "Q14"
   ]
  },
  {
   "cell_type": "code",
   "execution_count": null,
   "metadata": {},
   "outputs": [
    {
     "data": {
      "text/plain": [
       "login\n",
       "praveenscience    155\n",
       "mattdesl          148\n",
       "passy             146\n",
       "valeman           145\n",
       "CodeMaster7000    145\n",
       "Name: count, dtype: int64"
      ]
     },
     "execution_count": 124,
     "metadata": {},
     "output_type": "execute_result"
    }
   ],
   "source": [
    "# Convert 'created_at' to datetime\n",
    "repo_df['created_at'] = pd.to_datetime(repo_df['created_at'], utc=True)\n",
    "\n",
    "# Filter for repositories created on weekends (Saturday = 5, Sunday = 6)\n",
    "weekend_repos = repo_df[repo_df['created_at'].dt.weekday >= 5]\n",
    "\n",
    "# Count the number of weekend repositories per user\n",
    "weekend_repo_counts = weekend_repos['login'].value_counts()\n",
    "\n",
    "# Get the top 5 users with the most repositories created on weekends\n",
    "weekend_repo_counts.head(5)"
   ]
  },
  {
   "cell_type": "markdown",
   "metadata": {},
   "source": [
    "Q15"
   ]
  },
  {
   "cell_type": "code",
   "execution_count": null,
   "metadata": {},
   "outputs": [
    {
     "name": "stdout",
     "output_type": "stream",
     "text": [
      "Difference in email sharing: 0.06703107019562715\n"
     ]
    },
    {
     "data": {
      "text/plain": [
       "46"
      ]
     },
     "execution_count": 148,
     "metadata": {},
     "output_type": "execute_result"
    }
   ],
   "source": [
    "import pandas as pd\n",
    "\n",
    "# Load users data\n",
    "users_df = pd.read_csv(\"users.csv\")\n",
    "\n",
    "# Calculate the fraction of hireable users with an email\n",
    "hireable_with_email = users_df[(users_df['hireable'] == True) & (users_df['email'].notna())].shape[0]\n",
    "hireable_total = users_df[users_df['hireable'] == True].shape[0]\n",
    "fraction_hireable_with_email = hireable_with_email / hireable_total if hireable_total > 0 else 0\n",
    "\n",
    "# Calculate the fraction of non-hireable users with an email\n",
    "non_hireable_with_email = users_df[(users_df['hireable'].isna()) & (users_df['email'].notna())].shape[0]\n",
    "non_hireable_total = users_df[users_df['hireable'].isna()].shape[0]\n",
    "fraction_non_hireable_with_email = non_hireable_with_email / non_hireable_total if non_hireable_total > 0 else 0\n",
    "\n",
    "# Calculate the difference\n",
    "email_fraction_difference = fraction_hireable_with_email - fraction_non_hireable_with_email\n",
    "\n",
    "print(f\"Difference in email sharing: {email_fraction_difference}\")\n",
    "hireable_total\n",
    "non_hireable_total\n",
    "hireable_with_email\n"
   ]
  },
  {
   "cell_type": "markdown",
   "metadata": {},
   "source": [
    "Q16"
   ]
  },
  {
   "cell_type": "code",
   "execution_count": null,
   "metadata": {},
   "outputs": [
    {
     "name": "stdout",
     "output_type": "stream",
     "text": [
      "Most common surname(s): Appleton, Brewery, Fuller, Greenfeld, Jackson, Li, Williams\n"
     ]
    }
   ],
   "source": [
    "# Load the data\n",
    "users_df = pd.read_csv(\"users.csv\")\n",
    "\n",
    "# Filter out missing names and extract the last word in each name as the surname\n",
    "users_df['surname'] = users_df['name'].dropna().str.strip().str.split().str[-1]\n",
    "\n",
    "# Count occurrences of each surname\n",
    "surname_counts = users_df['surname'].value_counts()\n",
    "\n",
    "# Find the most common surname count\n",
    "max_count = surname_counts.max()\n",
    "\n",
    "# Identify all surnames that match this maximum count, sorted alphabetically\n",
    "most_common_surnames = surname_counts[surname_counts == max_count].index.sort_values().tolist()\n",
    "\n",
    "# Display the most common surname(s) as a comma-separated string\n",
    "result = \", \".join(most_common_surnames)\n",
    "print(f\"Most common surname(s): {result}\")\n"
   ]
  }
 ],
 "metadata": {
  "kernelspec": {
   "display_name": ".venv",
   "language": "python",
   "name": "python3"
  },
  "language_info": {
   "codemirror_mode": {
    "name": "ipython",
    "version": 3
   },
   "file_extension": ".py",
   "mimetype": "text/x-python",
   "name": "python",
   "nbconvert_exporter": "python",
   "pygments_lexer": "ipython3",
   "version": "3.12.0"
  }
 },
 "nbformat": 4,
 "nbformat_minor": 2
}
